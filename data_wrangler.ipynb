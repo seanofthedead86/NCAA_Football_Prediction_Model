{
  "nbformat": 4,
  "nbformat_minor": 0,
  "metadata": {
    "colab": {
      "provenance": [],
      "mount_file_id": "1sd8-9oBlL3n5umHjAhBWZ3V1nCvzZyM3",
      "authorship_tag": "ABX9TyNvET/6n5T/57j7aLAp1QjL"
    },
    "kernelspec": {
      "name": "python3",
      "display_name": "Python 3"
    },
    "language_info": {
      "name": "python"
    }
  },
  "cells": [
    {
      "cell_type": "code",
      "execution_count": null,
      "metadata": {
        "colab": {
          "base_uri": "https://localhost:8080/"
        },
        "id": "0NsLzuyN6SBd",
        "outputId": "25e98eae-cbc5-4544-87a3-dbba9aef2074"
      },
      "outputs": [
        {
          "output_type": "stream",
          "name": "stdout",
          "text": [
            "Looking in indexes: https://pypi.org/simple, https://us-python.pkg.dev/colab-wheels/public/simple/\n",
            "Collecting cfbd\n",
            "  Downloading cfbd-4.4.11-py3-none-any.whl (348 kB)\n",
            "\u001b[K     |████████████████████████████████| 348 kB 6.6 MB/s \n",
            "\u001b[?25hRequirement already satisfied: six>=1.10 in /usr/local/lib/python3.7/dist-packages (from cfbd) (1.15.0)\n",
            "Requirement already satisfied: python-dateutil>=2.1 in /usr/local/lib/python3.7/dist-packages (from cfbd) (2.8.2)\n",
            "Requirement already satisfied: certifi>=2017.4.17 in /usr/local/lib/python3.7/dist-packages (from cfbd) (2022.9.24)\n",
            "Requirement already satisfied: urllib3>=1.23 in /usr/local/lib/python3.7/dist-packages (from cfbd) (1.24.3)\n",
            "Installing collected packages: cfbd\n",
            "Successfully installed cfbd-4.4.11\n"
          ]
        }
      ],
      "source": [
        "!pip install cfbd"
      ]
    },
    {
      "cell_type": "code",
      "source": [
        "import cfbd\n",
        "import numpy as np\n",
        "import pandas as pd"
      ],
      "metadata": {
        "id": "ZzAaZ0o-rwWc"
      },
      "execution_count": null,
      "outputs": []
    },
    {
      "cell_type": "code",
      "source": [
        "configuration = cfbd.Configuration()\n",
        "configuration.api_key['Authorization'] = 'ENTER API KEY'\n",
        "configuration.api_key_prefix['Authorization'] = 'Bearer'\n",
        "\n",
        "api_config = cfbd.ApiClient(configuration)"
      ],
      "metadata": {
        "id": "RtnVJ2hxwyEA"
      },
      "execution_count": null,
      "outputs": []
    },
    {
      "cell_type": "code",
      "source": [
        "games_api = cfbd.GamesApi(api_config)\n",
        "games_stats = games_api.get_team_game_stats(year=2022, conference='SEC')"
      ],
      "metadata": {
        "id": "crsmeT-7NovI"
      },
      "execution_count": null,
      "outputs": []
    },
    {
      "cell_type": "code",
      "source": [
        "team_one_info = pd.DataFrame([])\n",
        "team_two_info = pd.DataFrame([])\n",
        "team_one_stats_final = pd.DataFrame([])\n",
        "team_two_stats_final = pd.DataFrame([])\n",
        "data_final = pd.DataFrame([])\n",
        "\n",
        "for game in games_stats:\n",
        "\n",
        "  team_one_stats_df = pd.DataFrame([])\n",
        "  team_two_stats_df = pd.DataFrame([])\n",
        "\n",
        "  teams = game.teams\n",
        "\n",
        "  team_one = teams[0]\n",
        "  team_one_stats = team_one.stats\n",
        "\n",
        "  for stats in team_one_stats:\n",
        "    stat_data =  {\n",
        "        f'team_one_{stats.category}':[stats.stat]\n",
        "    }\n",
        "    t1_stats_df = pd.DataFrame(stat_data)\n",
        "\n",
        "    team_one_stats_df = pd.concat([team_one_stats_df.reset_index(drop=True), t1_stats_df.reset_index(drop=True)], axis=1)\n",
        "\n",
        "  team_two = teams[1]\n",
        "  team_two_stats = team_two.stats\n",
        "\n",
        "  for stats in team_two_stats:\n",
        "    stat_data =  {\n",
        "        f'team_two_{stats.category}':[stats.stat]\n",
        "    }\n",
        "    t1_stats_df = pd.DataFrame(stat_data)\n",
        "\n",
        "    team_two_stats_df = pd.concat([team_two_stats_df.reset_index(drop=True), t1_stats_df.reset_index(drop=True)], axis=1)\n",
        "\n",
        "  data = {\n",
        "      'team_one': [team_one.school],\n",
        "      'team_one_conf': [team_one.conference],\n",
        "      'team_one_home_away': [team_one.home_away],\n",
        "      'team_one_points': [team_one.points],\n",
        "\n",
        "      'team_two': [team_two.school],\n",
        "      'team_two_conf': [team_two.conference],\n",
        "      'team_two_home_away': [team_two.home_away],\n",
        "      'team_two_points': [team_two.points]\n",
        "  }\n",
        "\n",
        "  data_df = pd.DataFrame(data)\n",
        "  \n",
        "  team_one_stats_final = pd.concat([team_one_stats_final.reset_index(drop=True), team_one_stats_df.reset_index(drop=True)]).reset_index(drop=True)\n",
        "  team_two_stats_final = pd.concat([team_two_stats_final.reset_index(drop=True), team_two_stats_df.reset_index(drop=True)]).reset_index(drop=True)\n",
        "  \n",
        "  data_final = pd.concat([data_final.reset_index(drop=True), data_df.reset_index(drop=True)]).reset_index(drop=True)\n",
        "\n",
        "  final = pd.concat([data_final.reset_index(drop=True), team_one_stats_final.reset_index(drop=True), team_two_stats_final.reset_index(drop=True)], axis=1).reset_index(drop=True)\n",
        "\n",
        "  final.fillna(0)\n"
      ],
      "metadata": {
        "id": "65jqnZcvRplp"
      },
      "execution_count": null,
      "outputs": []
    },
    {
      "cell_type": "code",
      "source": [
        "final.fillna(0).to_csv('/content/drive/MyDrive/Colab Notebooks/SEC Prediction Folder/data/sec_game_stats_2022.csv', encoding='utf-8', index=False)"
      ],
      "metadata": {
        "id": "RggP6GimZvgS"
      },
      "execution_count": null,
      "outputs": []
    }
  ]
}
